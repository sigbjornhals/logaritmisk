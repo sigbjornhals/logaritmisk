{
 "cells": [
  {
   "cell_type": "code",
   "execution_count": 9,
   "id": "5e4518d0-0bcc-4aec-b3df-c15a3e326762",
   "metadata": {},
   "outputs": [
    {
     "data": {
      "text/markdown": [
       "# Logaritmisk skala"
      ],
      "text/plain": [
       "<IPython.core.display.Markdown object>"
      ]
     },
     "metadata": {},
     "output_type": "display_data"
    },
    {
     "name": "stdout",
     "output_type": "stream",
     "text": [
      "Skriv inn verdier for a og b i eksponentialfunksjonen f(x) = a · bˣ\n",
      "\n"
     ]
    },
    {
     "data": {
      "application/vnd.jupyter.widget-view+json": {
       "model_id": "ebbf209968c34c2a9b203aa0ba391f45",
       "version_major": 2,
       "version_minor": 0
      },
      "text/plain": [
       "VBox(children=(HBox(children=(FloatText(value=2000.0, description='a:', layout=Layout(width='30%')), FloatText…"
      ]
     },
     "metadata": {},
     "output_type": "display_data"
    },
    {
     "data": {
      "application/vnd.jupyter.widget-view+json": {
       "model_id": "847c40cd068a44ef8a3da81874c88b9d",
       "version_major": 2,
       "version_minor": 0
      },
      "text/plain": [
       "Output()"
      ]
     },
     "metadata": {},
     "output_type": "display_data"
    }
   ],
   "source": [
    "import numpy as np\n",
    "import matplotlib.pyplot as plt\n",
    "import ipywidgets as widgets\n",
    "from IPython.display import display, clear_output, Markdown\n",
    "from matplotlib.ticker import MultipleLocator\n",
    "\n",
    "# ─── Overskrift og instruksjon ─────────────────────────────────────────\n",
    "display(Markdown(\"# Logaritmisk skala\"))\n",
    "print(\"Skriv inn verdier for a og b i eksponentialfunksjonen f(x) = a · bˣ\\n\")\n",
    "\n",
    "# ─── Kontroller ─────────────────────────────────────────────────────────\n",
    "width = '30%'  \n",
    "a_box = widgets.FloatText(value=2000.0, description='a:', layout=widgets.Layout(width=width))\n",
    "b_box = widgets.FloatText(value=1.15,  description='b:', layout=widgets.Layout(width=width))\n",
    "x_scale_box = widgets.Dropdown(\n",
    "    options=[('Lineær','linear'),('Logaritmisk','log')],\n",
    "    value='linear', description='x-akse:', layout=widgets.Layout(width=width)\n",
    ")\n",
    "y_scale_box = widgets.Dropdown(\n",
    "    options=[('Lineær','linear'),('Logaritmisk','log')],\n",
    "    value='log', description='y-akse:', layout=widgets.Layout(width=width)\n",
    ")\n",
    "lower_box = widgets.FloatText(value=1.0,  description='Nedre x:', layout=widgets.Layout(width=width))\n",
    "upper_box = widgets.FloatText(value=24.0, description='Øvre x:', layout=widgets.Layout(width=width))\n",
    "plot_button = widgets.Button(\n",
    "    description='Tegn graf',\n",
    "    button_style='primary',\n",
    "    layout=widgets.Layout(margin='20px 0 0 0')\n",
    ")\n",
    "\n",
    "controls = widgets.VBox([\n",
    "    widgets.HBox([a_box, b_box]),\n",
    "    widgets.HBox([x_scale_box, y_scale_box]),\n",
    "    widgets.HBox([lower_box, upper_box]),\n",
    "    plot_button\n",
    "])\n",
    "\n",
    "# ─── Output-boks ───────────────────────────────────────────────────────\n",
    "out = widgets.Output()\n",
    "\n",
    "# ─── Callback ──────────────────────────────────────────────────────────\n",
    "def on_plot_clicked(_):\n",
    "    with out:\n",
    "        clear_output(wait=True)\n",
    "        a       = a_box.value\n",
    "        b       = b_box.value\n",
    "        x_scale = x_scale_box.value\n",
    "        y_scale = y_scale_box.value\n",
    "        lower   = lower_box.value\n",
    "        upper   = upper_box.value\n",
    "\n",
    "        # Validering\n",
    "        if lower >= upper:\n",
    "            print(\"❌ Nedre grense må være mindre enn øvre grense.\")\n",
    "            return\n",
    "        if x_scale == 'log' and lower <= 0:\n",
    "            print(\"❌ Ved logaritmisk x-akse må nedre grense være > 0.\")\n",
    "            return\n",
    "\n",
    "        # Beregn data\n",
    "        x = np.linspace(lower, upper, 500)\n",
    "        y = a * (b ** x)\n",
    "\n",
    "        # Tegn graf\n",
    "        fig, ax = plt.subplots(figsize=(8,5))\n",
    "        ax.plot(x, y, linewidth=2)\n",
    "\n",
    "        # Pretty-print i tittel med litt mellomrom: f (x)\n",
    "        ax.set_title(r\"$f\\,(x) = %.2f \\;\\cdot\\; %.2f^x$\" % (a, b), fontsize=16)\n",
    "\n",
    "        # Akseetiketter i kursiv med mellomrom\n",
    "        ax.set_xlabel(r\"$x$\", fontsize=12)\n",
    "        ax.set_ylabel(r\"$f\\,(x)$\", fontsize=12)\n",
    "\n",
    "        # Grid: tynne grå for minor, tykke svarte for major\n",
    "        ax.minorticks_on()\n",
    "        ax.grid(which='minor', linestyle='--', linewidth=0.5, color='gray')\n",
    "        ax.grid(which='major', linestyle='-', linewidth=1, color='black')\n",
    "\n",
    "        # x-akse skala og hovedlinje ved x=0 hvis lineær\n",
    "        if x_scale == 'log':\n",
    "            ax.set_xscale('log')\n",
    "        else:\n",
    "            ax.xaxis.set_major_locator(MultipleLocator(5))\n",
    "            ax.axvline(0, color='black', linewidth=1, zorder=3)\n",
    "\n",
    "        # y-akse skala, tierpotens-ticks og hovedlinje ved 10^0=1\n",
    "        if y_scale == 'log':\n",
    "            ax.set_yscale('log')\n",
    "            ymin, ymax = y.min(), y.max()\n",
    "            emin = int(np.floor(np.log10(ymin))) - 1\n",
    "            if emin > 0: emin = 0\n",
    "            emax = int(np.ceil(np.log10(ymax))) + 1\n",
    "            if emax < 0: emax = 0\n",
    "            ticks_exp = np.arange(emin, emax+1)\n",
    "            if 0 not in ticks_exp:\n",
    "                ticks_exp = np.union1d(ticks_exp, [0])\n",
    "            ticks_exp.sort()\n",
    "            major_yticks = 10**ticks_exp\n",
    "            ax.set_yticks(major_yticks)\n",
    "            ax.set_yticklabels([f\"$10^{{{e}}}$\" for e in ticks_exp])\n",
    "            ax.axhline(1, color='black', linewidth=1, zorder=3)  # hovedlinje ved y=1\n",
    "        else:\n",
    "            ax.set_ylim(bottom=0)\n",
    "            ax.axhline(0, color='black', linewidth=1, zorder=3)\n",
    "\n",
    "        # Fjern aksespines, behold labels\n",
    "        for spine in ax.spines.values():\n",
    "            spine.set_visible(False)\n",
    "        ax.tick_params(which='both', length=0)\n",
    "\n",
    "        plt.tight_layout()\n",
    "        plt.show()\n",
    "\n",
    "# ─── Kople knapp og vis alt ────────────────────────────────────────────\n",
    "plot_button.on_click(on_plot_clicked)\n",
    "display(controls, out)\n"
   ]
  },
  {
   "cell_type": "code",
   "execution_count": null,
   "id": "0429c599-5e18-441d-94e2-bed00b5dbf31",
   "metadata": {},
   "outputs": [],
   "source": []
  }
 ],
 "metadata": {
  "kernelspec": {
   "display_name": "Python 3 (ipykernel)",
   "language": "python",
   "name": "python3"
  },
  "language_info": {
   "codemirror_mode": {
    "name": "ipython",
    "version": 3
   },
   "file_extension": ".py",
   "mimetype": "text/x-python",
   "name": "python",
   "nbconvert_exporter": "python",
   "pygments_lexer": "ipython3",
   "version": "3.11.4"
  }
 },
 "nbformat": 4,
 "nbformat_minor": 5
}
